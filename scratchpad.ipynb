{
 "cells": [
  {
   "cell_type": "code",
   "execution_count": 1,
   "metadata": {},
   "outputs": [],
   "source": [
    "import music21 as m\n",
    "import IPython\n",
    "from IPython.display import Image, Audio"
   ]
  },
  {
   "cell_type": "code",
   "execution_count": 2,
   "metadata": {},
   "outputs": [],
   "source": [
    "import numpy as np\n",
    "from typing import List, Set"
   ]
  },
  {
   "cell_type": "markdown",
   "metadata": {},
   "source": [
    "# Notes"
   ]
  },
  {
   "cell_type": "code",
   "execution_count": 3,
   "metadata": {},
   "outputs": [
    {
     "data": {
      "image/png": "[encoded data removed]",
      "text/plain": [
       "<IPython.core.display.Image object>"
      ]
     },
     "metadata": {
      "image/png": {
       "height": 45,
       "width": 199
      }
     },
     "output_type": "display_data"
    }
   ],
   "source": [
    "f=m.note.Note('C1')\n",
    "f.duration.type='half'\n",
    "f.show()\n",
    "# note.Note('C3').show()\n"
   ]
  },
  {
   "cell_type": "code",
   "execution_count": 4,
   "metadata": {},
   "outputs": [
    {
     "data": {
      "image/png": "[encoded data removed]",
      "text/plain": [
       "<IPython.core.display.Image object>"
      ]
     },
     "metadata": {
      "image/png": {
       "height": 33,
       "width": 192
      }
     },
     "output_type": "display_data"
    }
   ],
   "source": [
    "m.note.Note('C3').show()"
   ]
  },
  {
   "cell_type": "code",
   "execution_count": 5,
   "metadata": {},
   "outputs": [
    {
     "data": {
      "image/png": "[encoded data removed]",
      "text/plain": [
       "<IPython.core.display.Image object>"
      ]
     },
     "metadata": {
      "image/png": {
       "height": 49,
       "width": 206
      }
     },
     "output_type": "display_data"
    }
   ],
   "source": [
    "r = m.note.Rest()\n",
    "r.duration = m.duration.Duration(0.25)\n",
    "r.show()"
   ]
  },
  {
   "cell_type": "code",
   "execution_count": 6,
   "metadata": {},
   "outputs": [
    {
     "data": {
      "image/png": "[encoded data removed]",
      "text/plain": [
       "<IPython.core.display.Image object>"
      ]
     },
     "metadata": {
      "image/png": {
       "height": 78,
       "width": 360
      }
     },
     "output_type": "display_data"
    }
   ],
   "source": [
    "i=m.instrument.Guitar()\n",
    "stream1 = m.stream.Stream(instrument=i)\n",
    "note1=m.note.Note('C3#')\n",
    "note1.duration=m.duration.Duration(0.5)\n",
    "note2=m.note.Note('C5')\n",
    "note2.duration=m.duration.Duration(1.25)\n",
    "note3=m.note.Rest()\n",
    "note3.duration=m.duration.Duration(1.5)\n",
    "note4=m.note.Note('C4')\n",
    "note4.duration=m.duration.Duration(0.75)\n",
    "\n",
    "stream1.append(note1)\n",
    "stream1.append(note2)\n",
    "stream1.append(note3)\n",
    "stream1.append(note4)\n",
    "\n",
    "stream1.show()"
   ]
  },
  {
   "cell_type": "code",
   "execution_count": 7,
   "metadata": {},
   "outputs": [
    {
     "data": {
      "text/html": [
       "\n",
       "        <div id=\"midiPlayerDiv150\"></div>\n",
       "        <link rel=\"stylesheet\" href=\"https://cuthbertLab.github.io/music21j/css/m21.css\">\n",
       "        \n",
       "        <script\n",
       "        src=\"https://cdnjs.cloudflare.com/ajax/libs/require.js/2.3.6/require.min.js\"\n",
       "        ></script>\n",
       "    \n",
       "        <script>\n",
       "        function midiPlayerDiv150_play() {\n",
       "            const rq = require.config({\n",
       "                paths: {\n",
       "                    'music21': 'https://cuthbertLab.github.io/music21j/releases/music21.debug',\n",
       "                }\n",
       "            });\n",
       "            rq(['music21'], function(music21) {\n",
       "                mp = new music21.miditools.MidiPlayer();\n",
       "                mp.addPlayer(\"#midiPlayerDiv150\");\n",
       "                mp.base64Load(\"data:audio/midi;base64,TVRoZAAAAAYAAQACJ2BNVHJrAAAAFAD/UQMHoSAA/1gEBAIYCM5g/y8ATVRyawAAACoA/wMAAOAAQM5gkDFapzCAMQAAkEha4jiASAD2EJA8WrsIgDwAzmD/LwA=\");\n",
       "            });\n",
       "        }\n",
       "        if (typeof require === 'undefined') {\n",
       "            setTimeout(midiPlayerDiv150_play, 2000);\n",
       "        } else {\n",
       "            midiPlayerDiv150_play();\n",
       "        }\n",
       "        </script>"
      ],
      "text/plain": [
       "<IPython.core.display.HTML object>"
      ]
     },
     "metadata": {},
     "output_type": "display_data"
    }
   ],
   "source": [
    "stream1.show('midi')"
   ]
  },
  {
   "cell_type": "code",
   "execution_count": null,
   "metadata": {},
   "outputs": [],
   "source": []
  },
  {
   "cell_type": "code",
   "execution_count": 8,
   "metadata": {},
   "outputs": [
    {
     "data": {
      "text/plain": [
       "{1: [1, 2, 3, 4, 5, 6, 7, 8, 9, 10, 11, 12],\n",
       " 2: [1, 2, 3, 4, 5, 6, 7, 8, 9, 10, 11, 12],\n",
       " 3: [1, 2, 3, 4, 5, 6, 7, 8, 9, 10, 11, 12],\n",
       " 4: [1, 2, 3, 4, 5, 6, 7, 8, 9, 10, 11, 12],\n",
       " 5: [1, 2, 3, 4, 5, 6, 7, 8, 9, 10, 11, 12],\n",
       " 6: [1, 2, 3, 4, 5, 6, 7, 8, 9, 10, 11, 12]}"
      ]
     },
     "execution_count": 8,
     "metadata": {},
     "output_type": "execute_result"
    }
   ],
   "source": [
    "{x:list(np.arange(1,13)) for x in np.arange(1,7)}"
   ]
  },
  {
   "cell_type": "code",
   "execution_count": 9,
   "metadata": {},
   "outputs": [],
   "source": [
    "note_dict={\n",
    "    \"e\":[\"F4\",\"F4#\",\"G4\",\"G4#\",\"A4\",\"A4#\",\"B4\",\"C5\",\"C5#\",\"D5\",\"D5#\",\"E5\"],\n",
    "    \"B\":[\"C4\",\"C4#\",\"D4\",\"D4#\",\"E4\",\"F4\",\"F4#\",\"G4\",\"G4#\",\"A4\",\"A4#\",\"B4\"],\n",
    "    \"G\":[\"G3#\",\"A3\",\"A3#\",\"B3\",\"C4\",\"C4#\",\"D4\",\"D4#\",\"E4\",\"F4\",\"F4#\",\"G4\"],\n",
    "    \"D\":[\"D3#\",\"E3\",\"F3\",\"F3#\",\"G3\",\"G3#\",\"A3\",\"A3#\",\"B3\",\"C4\",\"C4#\",\"D4\"],\n",
    "    \"A\":[\"A2#\",\"B2\",\"C3\",\"C3#\",\"D3\",\"D3#\",\"E3\",\"F3\",\"F3#\",\"G3\",\"G3#\",\"A3\"],\n",
    "    \"E\":[\"F2\",\"F2#\",\"G2\",\"G2#\",\"A2\",\"A2#\",\"B2\",\"C3\",\"C3#\",\"D3\",\"D3#\",\"E3\"],\n",
    "}"
   ]
  },
  {
   "cell_type": "code",
   "execution_count": 10,
   "metadata": {},
   "outputs": [
    {
     "data": {
      "text/plain": [
       "music21.stream.base.Stream"
      ]
     },
     "execution_count": 10,
     "metadata": {},
     "output_type": "execute_result"
    }
   ],
   "source": [
    "type(stream1)"
   ]
  },
  {
   "cell_type": "code",
   "execution_count": 11,
   "metadata": {},
   "outputs": [
    {
     "data": {
      "text/plain": [
       "'A'"
      ]
     },
     "execution_count": 11,
     "metadata": {},
     "output_type": "execute_result"
    }
   ],
   "source": [
    "list(note_dict.keys())[4]"
   ]
  },
  {
   "cell_type": "code",
   "execution_count": 12,
   "metadata": {},
   "outputs": [
    {
     "data": {
      "text/plain": [
       "'D3#'"
      ]
     },
     "execution_count": 12,
     "metadata": {},
     "output_type": "execute_result"
    }
   ],
   "source": [
    "note_dict['A'][5]"
   ]
  },
  {
   "cell_type": "code",
   "execution_count": 13,
   "metadata": {},
   "outputs": [
    {
     "data": {
      "text/plain": [
       "['1', '3']"
      ]
     },
     "execution_count": 13,
     "metadata": {},
     "output_type": "execute_result"
    }
   ],
   "source": [
    "\"1.3\".split(\".\")"
   ]
  },
  {
   "cell_type": "code",
   "execution_count": 14,
   "metadata": {},
   "outputs": [
    {
     "ename": "NameError",
     "evalue": "name '_get_note' is not defined",
     "output_type": "error",
     "traceback": [
      "\u001b[0;31m---------------------------------------------------------------------------\u001b[0m",
      "\u001b[0;31mNameError\u001b[0m                                 Traceback (most recent call last)",
      "Cell \u001b[0;32mIn[14], line 1\u001b[0m\n\u001b[0;32m----> 1\u001b[0m _get_note(\u001b[39m\"\u001b[39m\u001b[39m5.4\u001b[39m\u001b[39m\"\u001b[39m)\n",
      "\u001b[0;31mNameError\u001b[0m: name '_get_note' is not defined"
     ]
    }
   ],
   "source": [
    "_get_note(\"5.4\")"
   ]
  },
  {
   "cell_type": "markdown",
   "metadata": {},
   "source": [
    "# Creating streams"
   ]
  },
  {
   "cell_type": "code",
   "execution_count": 20,
   "metadata": {},
   "outputs": [],
   "source": [
    "def _get_note(n):\n",
    "    string,fret=n.split(\".\")\n",
    "    string=list(note_dict.keys())[int(string)-1]\n",
    "    if int(fret) > 0:\n",
    "        return note_dict[string][int(fret)-1]\n",
    "    else:\n",
    "        return string\n",
    "\n",
    "def compose_score(notes:List[Set]) -> m.stream.base.Stream:\n",
    "    \"\"\"\n",
    "    1. Get notes\n",
    "    2. Add notes and duration to score\n",
    "    \n",
    "    Expected format: notes = List[Set(\"string.fret\",duration)]\n",
    "    Eg. notes_for_C=[(),(),(),()]\n",
    "\n",
    "    \"\"\"\n",
    "    i=m.instrument.Guitar()\n",
    "    streamx = m.stream.Stream(instrument=i)\n",
    "\n",
    "    for note_and_duration in notes:\n",
    "        notex,durationx=note_and_duration\n",
    "        notex_=_get_note(notex)\n",
    "        notex=m.note.Note(notex_)\n",
    "        notex.duration=m.duration.Duration(durationx)\n",
    "        streamx.append(notex)\n",
    "    return streamx"
   ]
  },
  {
   "cell_type": "code",
   "execution_count": 21,
   "metadata": {},
   "outputs": [],
   "source": [
    "note_list=[(\"5.3\",0.5),(\"5.5\",0.5),(\"4.2\",0.5),(\"4.5\",0.5),(\"3.2\",0.5),(\"3.5\",0.5),(\"2.3\",0.5),(\"2.5\",0.5),(\"1.3\",0.5),(\"1.5\",0.5),(\"1.8\",2)]"
   ]
  },
  {
   "cell_type": "code",
   "execution_count": null,
   "metadata": {},
   "outputs": [],
   "source": [
    "stream_C=compose_score(note_list)"
   ]
  },
  {
   "cell_type": "code",
   "execution_count": null,
   "metadata": {},
   "outputs": [
    {
     "data": {
      "image/png": "[encoded data removed]",
      "text/plain": [
       "<IPython.core.display.Image object>"
      ]
     },
     "metadata": {
      "image/png": {
       "height": 72,
       "width": 674
      }
     },
     "output_type": "display_data"
    }
   ],
   "source": [
    "stream_C.show()"
   ]
  },
  {
   "cell_type": "code",
   "execution_count": null,
   "metadata": {},
   "outputs": [
    {
     "data": {
      "text/html": [
       "\n",
       "        <div id=\"midiPlayerDiv1820\"></div>\n",
       "        <link rel=\"stylesheet\" href=\"https://cuthbertLab.github.io/music21j/css/m21.css\">\n",
       "        \n",
       "        <script\n",
       "        src=\"https://cdnjs.cloudflare.com/ajax/libs/require.js/2.3.6/require.min.js\"\n",
       "        ></script>\n",
       "    \n",
       "        <script>\n",
       "        function midiPlayerDiv1820_play() {\n",
       "            const rq = require.config({\n",
       "                paths: {\n",
       "                    'music21': 'https://cuthbertLab.github.io/music21j/releases/music21.debug',\n",
       "                }\n",
       "            });\n",
       "            rq(['music21'], function(music21) {\n",
       "                mp = new music21.miditools.MidiPlayer();\n",
       "                mp.addPlayer(\"#midiPlayerDiv1820\");\n",
       "                mp.base64Load(\"data:audio/midi;base64,TVRoZAAAAAYAAQACJ2BNVHJrAAAAFAD/UQMHoSAA/1gEBAIYCM5g/y8ATVRyawAAAHIA/wMAAOAAQM5gkDBapzCAMAAAkDJapzCAMgAAkDRapzCANAAAkDdapzCANwAAkDlapzCAOQAAkDxapzCAPAAAkD5apzCAPgAAkEBapzCAQAAAkENapzCAQwAAkEVapzCARQAAkEhagZ1AgEgAzmD/LwA=\");\n",
       "            });\n",
       "        }\n",
       "        if (typeof require === 'undefined') {\n",
       "            setTimeout(midiPlayerDiv1820_play, 2000);\n",
       "        } else {\n",
       "            midiPlayerDiv1820_play();\n",
       "        }\n",
       "        </script>"
      ],
      "text/plain": [
       "<IPython.core.display.HTML object>"
      ]
     },
     "metadata": {},
     "output_type": "display_data"
    }
   ],
   "source": [
    "stream_C.show('midi')"
   ]
  },
  {
   "cell_type": "code",
   "execution_count": 25,
   "metadata": {},
   "outputs": [],
   "source": [
    "note_list = [(\"5.0\",0.25),(\"5.2\",0.25),(\"5.5\",0.25),(\"4.4\",0.25),(\"3.2\",0.5),(\"4.4\",0.5),(\"5.5\",0.25),(\"5.7\",0.25),(\"4.4\",0.5),(\"4.7\",0.5),(\"4.4\",0.5),\\\n",
    "             (\"6.3\",0.5),(\"5.5\",0.5),(\"4.7\",0.5),(\"6.6\",0.5),(\"5.8\",0.5),(\"4.10\",0.5),(\"6.8\",0.5),(\"5.10\",0.5),(\"4.12\",4)]"
   ]
  },
  {
   "cell_type": "code",
   "execution_count": 26,
   "metadata": {},
   "outputs": [],
   "source": [
    "twisted_hands=compose_score(note_list)"
   ]
  },
  {
   "cell_type": "code",
   "execution_count": 29,
   "metadata": {},
   "outputs": [
    {
     "data": {
      "text/html": [
       "\n",
       "        <div id=\"midiPlayerDiv541\"></div>\n",
       "        <link rel=\"stylesheet\" href=\"https://cuthbertLab.github.io/music21j/css/m21.css\">\n",
       "        \n",
       "        <script\n",
       "        src=\"https://cdnjs.cloudflare.com/ajax/libs/require.js/2.3.6/require.min.js\"\n",
       "        ></script>\n",
       "    \n",
       "        <script>\n",
       "        function midiPlayerDiv541_play() {\n",
       "            const rq = require.config({\n",
       "                paths: {\n",
       "                    'music21': 'https://cuthbertLab.github.io/music21j/releases/music21.debug',\n",
       "                }\n",
       "            });\n",
       "            rq(['music21'], function(music21) {\n",
       "                mp = new music21.miditools.MidiPlayer();\n",
       "                mp.addPlayer(\"#midiPlayerDiv541\");\n",
       "                mp.base64Load(\"data:audio/midi;base64,TVRoZAAAAAYAAQACJ2BNVHJrAAAAFAD/UQMHoSAA/1gEBAIYCM5g/y8ATVRyawAAAMMA/wMAAOAAQM5gkEVak1iARQAAkC9ak1iALwAAkDJak1iAMgAAkDZak1iANgAAkDlapzCAOQAAkDZapzCANgAAkDJak1iAMgAAkDRak1iANAAAkDZapzCANgAAkDlapzCAOQAAkDZapzCANgAAkCtapzCAKwAAkDJapzCAMgAAkDlapzCAOQAAkC5apzCALgAAkDVapzCANQAAkDxapzCAPAAAkDBapzCAMAAAkDdapzCANwAAkD5agrsAgD4AzmD/LwA=\");\n",
       "            });\n",
       "        }\n",
       "        if (typeof require === 'undefined') {\n",
       "            setTimeout(midiPlayerDiv541_play, 2000);\n",
       "        } else {\n",
       "            midiPlayerDiv541_play();\n",
       "        }\n",
       "        </script>"
      ],
      "text/plain": [
       "<IPython.core.display.HTML object>"
      ]
     },
     "metadata": {},
     "output_type": "display_data"
    }
   ],
   "source": [
    "twisted_hands.show(\"midi\")"
   ]
  },
  {
   "cell_type": "code",
   "execution_count": null,
   "metadata": {},
   "outputs": [],
   "source": []
  },
  {
   "cell_type": "code",
   "execution_count": null,
   "metadata": {},
   "outputs": [],
   "source": []
  }
 ],
 "metadata": {
  "kernelspec": {
   "display_name": "Python 3.10.5 ('music')",
   "language": "python",
   "name": "python3"
  },
  "language_info": {
   "codemirror_mode": {
    "name": "ipython",
    "version": 3
   },
   "file_extension": ".py",
   "mimetype": "text/x-python",
   "name": "python",
   "nbconvert_exporter": "python",
   "pygments_lexer": "ipython3",
   "version": "3.11.4"
  },
  "orig_nbformat": 4,
  "vscode": {
   "interpreter": {
    "hash": "7b4ec7df258f3f67bd29e61869cb80b7e9721263e56caed01a0a384d96627d61"
   }
  }
 },
 "nbformat": 4,
 "nbformat_minor": 2
}
